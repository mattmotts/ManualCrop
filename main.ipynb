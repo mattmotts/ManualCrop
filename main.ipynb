{
 "cells": [
  {
   "cell_type": "markdown",
   "metadata": {},
   "source": [
    "# MacOS\n"
   ]
  },
  {
   "cell_type": "markdown",
   "metadata": {},
   "source": [
    "## Generate Mockup for each Input Image\n",
    "- ensure input folder is populated 1x, 2x, and max images\n",
    "- path should typically be: r'C:\\Users\\Matt\\Pictures\\MidJourney\\Imagine\\Impasto\\Ideas\\Input'\n",
    "- all three folders (input, mockup and output) paths should remain untouched\n"
   ]
  },
  {
   "cell_type": "code",
   "execution_count": 3,
   "metadata": {},
   "outputs": [
    {
     "name": "stdout",
     "output_type": "stream",
     "text": [
      "Processing complete.\n"
     ]
    }
   ],
   "source": [
    "from PIL import Image\n",
    "import glob\n",
    "import os\n",
    "from pathlib import Path\n",
    "\n",
    "# Updated paths for macOS\n",
    "input_image_folder = r'/Users/Matt/Pictures/MidJourney/Imagine/Impasto/Ideas/Input'\n",
    "input_mockup_folder = r'/Users/Matt/Pictures/MidJourney/Imagine/Mockups/Refined'\n",
    "output_folder = r'/Users/Matt/Pictures/MidJourney/Digital Products/Brushed by the Breeze/Images/Output'\n",
    "\n",
    "# Define mockup specifications with unique pixel parameters\n",
    "mockup_specs = {\n",
    "    \"bedroom\": (263, 109, 488, 346),\n",
    "    \"bathroom\": (362, 275, 358, 260),\n",
    "    \"hallway\": (301, 168, 378, 270),\n",
    "    \"kitchen\": (271, 62, 460, 327),\n",
    "    \"livingroom\": (286, 97, 525, 362),\n",
    "    \"office\": (289, 85, 576, 360),\n",
    "}\n",
    "\n",
    "# Find all images that end with '1x' in the input folder\n",
    "input_images = glob.glob(os.path.join(input_image_folder, '*1x.png'))\n",
    "\n",
    "# Find all mockup images\n",
    "mockup_images = glob.glob(os.path.join(input_mockup_folder, '*.png'))\n",
    "\n",
    "# Iterate over all input images that match the '1x' pattern\n",
    "for image_path in input_images:\n",
    "    load_image = Image.open(image_path)\n",
    "    input_base_name = os.path.basename(image_path).split('_')[0]\n",
    "\n",
    "    # Iterate over all mockup images\n",
    "    for mockup_path in mockup_images:\n",
    "        load_mockup = Image.open(mockup_path).copy()  # Make a copy to avoid altering the original\n",
    "        mockup_base_name = os.path.basename(mockup_path).split('.')[0]\n",
    "\n",
    "        # Determine which set of parameters to use based on the mockup's prefix in the filename\n",
    "        for setting, params in mockup_specs.items():\n",
    "            if setting in mockup_path:  # Check if the mockup's file name contains the setting name\n",
    "                canvas_x, canvas_y, canvas_width, canvas_height = params\n",
    "                break\n",
    "        else:\n",
    "            print(f\"No matching setting found for mockup: {mockup_base_name}\")\n",
    "            continue  # Skip this mockup if no matching setting is found\n",
    "\n",
    "        # Resize the input image to match the size of the canvas area\n",
    "        image_to_layer = load_image.resize((canvas_width, canvas_height))\n",
    "\n",
    "        # Paste the resized image onto the mockup at the specified coordinates\n",
    "        load_mockup.paste(image_to_layer, (canvas_x, canvas_y))\n",
    "\n",
    "        # Construct the new file name using both the input and mockup base names\n",
    "        new_file_name = f\"{input_base_name}_{mockup_base_name}.png\"\n",
    "\n",
    "        # Construct the full path for the output file\n",
    "        output_path = os.path.join(output_folder, new_file_name)\n",
    "\n",
    "        # Save the final image\n",
    "        load_mockup.save(output_path)\n",
    "\n",
    "print(\"Processing complete.\")\n"
   ]
  },
  {
   "cell_type": "markdown",
   "metadata": {},
   "source": [
    "- navigate to the output file\n",
    "- the folder should be populated with all of the mockups with the image on it"
   ]
  },
  {
   "cell_type": "markdown",
   "metadata": {},
   "source": [
    "## Organize "
   ]
  },
  {
   "cell_type": "markdown",
   "metadata": {},
   "source": [
    "- just run\n",
    "- input, output, and new 'prelisting' folder should remain untouched ... prelisting folder may change under depending on product"
   ]
  },
  {
   "cell_type": "code",
   "execution_count": 4,
   "metadata": {},
   "outputs": [
    {
     "name": "stdout",
     "output_type": "stream",
     "text": [
      "Files have been moved to their respective new output folders based on unique starter words. Check to ensure there are 9 total images.\n"
     ]
    }
   ],
   "source": [
    "import os\n",
    "import shutil\n",
    "from glob import glob\n",
    "from collections import defaultdict\n",
    "\n",
    "# Define the destination folder\n",
    "prelisting_folder = r'/Users/Matt/Pictures/MidJourney/Digital Products/Brushed by the Breeze/Images/Prelisting'\n",
    "\n",
    "# Ensure the new output folder exists\n",
    "os.makedirs(prelisting_folder, exist_ok=True)\n",
    "\n",
    "# Function to extract starter word from filename\n",
    "def extract_starter_word(filename):\n",
    "    # Assuming the starter word is the part before the first underscore\n",
    "    return filename.split('_')[0]\n",
    "\n",
    "# Function to move files based on their starter words\n",
    "def move_files_based_on_starter(source_folder, target_folder):\n",
    "    files_grouped_by_starter = defaultdict(list)\n",
    "    # Group files by their starter word\n",
    "    for file_path in glob(os.path.join(source_folder, '*.png')):\n",
    "        starter_word = extract_starter_word(os.path.basename(file_path))\n",
    "        files_grouped_by_starter[starter_word].append(file_path)\n",
    "\n",
    "    # Move files to their respective starter word folders\n",
    "    for starter, files in files_grouped_by_starter.items():\n",
    "        starter_subfolder = os.path.join(target_folder, starter)\n",
    "        os.makedirs(starter_subfolder, exist_ok=True)\n",
    "        for file_path in files:\n",
    "            shutil.move(file_path, starter_subfolder)\n",
    "\n",
    "# Move every image from the input_image_folder to their respective new output folders based on unique starter words\n",
    "move_files_based_on_starter(input_image_folder, prelisting_folder)\n",
    "\n",
    "# Move images from the output_folder, including handling unique starter words\n",
    "move_files_based_on_starter(output_folder, prelisting_folder)\n",
    "\n",
    "print(\"Files have been moved to their respective new output folders based on unique starter words. Check to ensure there are 9 total images.\")\n"
   ]
  },
  {
   "cell_type": "markdown",
   "metadata": {},
   "source": [
    "- input folder should be clear\n",
    "- output folder should be clear\n",
    "- prelisting folder should be populated with each unique item in their own folder ... now we can upload to sell"
   ]
  },
  {
   "cell_type": "markdown",
   "metadata": {},
   "source": [
    "## Next Step\n",
    "If all runs swiftly I simply just save the pictures to the input folder and run both cells :)\n",
    "\n",
    "Then I can either manually move from prelisting --> listing or code it"
   ]
  },
  {
   "cell_type": "markdown",
   "metadata": {},
   "source": [
    "------------"
   ]
  },
  {
   "cell_type": "markdown",
   "metadata": {},
   "source": [
    "# WindowsOS"
   ]
  },
  {
   "cell_type": "markdown",
   "metadata": {},
   "source": [
    "## Generate Mockup for each Input Image\n",
    "- ensure input folder is populated 1x, 2x, and max images\n",
    "- path should typically be: r'C:\\Users\\Matt\\Pictures\\MidJourney\\Imagine\\Impasto\\Ideas\\Input'\n",
    "- all three folders (input, mockup and output) paths should remain untouched\n"
   ]
  },
  {
   "cell_type": "code",
   "execution_count": null,
   "metadata": {},
   "outputs": [],
   "source": [
    "from PIL import Image\n",
    "import glob\n",
    "import os\n",
    "from pathlib import Path\n",
    "\n",
    "# Input folder\n",
    "input_image_folder = r'C:\\Users\\Matt\\Pictures\\MidJourney\\Imagine\\Impasto\\Ideas\\Input'\n",
    "\n",
    "# Mockup path\n",
    "input_mockup_folder = r'C:\\Users\\Matt\\Pictures\\MidJourney\\Imagine\\Mockups\\Refined'\n",
    "\n",
    "# Output folder\n",
    "output_folder = r'C:\\Users\\Matt\\Pictures\\MidJourney\\Digital Products\\Brushed by the Breeze\\Images\\Output'\n",
    "\n",
    "# Define mockup specifications with unique pixel parameters\n",
    "mockup_specs = {\n",
    "    \"bedroom\": (263, 109, 488, 346),\n",
    "    \"bathroom\": (362, 275, 358, 260),\n",
    "    \"hallway\": (301, 168, 378, 270),\n",
    "    \"kitchen\": (271, 62, 460, 327),\n",
    "    \"livingroom\": (286, 97, 525, 362),\n",
    "    \"office\": (289, 85, 576, 360),\n",
    "}\n",
    "\n",
    "# Find all images that end with '1x' in the input folder\n",
    "input_images = glob.glob(os.path.join(input_image_folder, '*1x.png'))\n",
    "\n",
    "# Find all mockup images\n",
    "mockup_images = glob.glob(os.path.join(input_mockup_folder, '*.png'))\n",
    "\n",
    "# Iterate over all input images that match the '1x' pattern\n",
    "for image_path in input_images:\n",
    "    load_image = Image.open(image_path)\n",
    "    input_base_name = os.path.basename(image_path).split('_')[0]\n",
    "\n",
    "    # Iterate over all mockup images\n",
    "    for mockup_path in mockup_images:\n",
    "        load_mockup = Image.open(mockup_path).copy()  # Make a copy to avoid altering the original\n",
    "        mockup_base_name = os.path.basename(mockup_path).split('.')[0]\n",
    "\n",
    "        # Determine which set of parameters to use based on the mockup's prefix in the filename\n",
    "        for setting, params in mockup_specs.items():\n",
    "            if setting in mockup_path:  # Check if the mockup's file name contains the setting name\n",
    "                canvas_x, canvas_y, canvas_width, canvas_height = params\n",
    "                break\n",
    "        else:\n",
    "            print(f\"No matching setting found for mockup: {mockup_base_name}\")\n",
    "            continue  # Skip this mockup if no matching setting is found\n",
    "\n",
    "        # Resize the input image to match the size of the canvas area\n",
    "        image_to_layer = load_image.resize((canvas_width, canvas_height))\n",
    "\n",
    "        # Paste the resized image onto the mockup at the specified coordinates\n",
    "        load_mockup.paste(image_to_layer, (canvas_x, canvas_y))\n",
    "\n",
    "        # Construct the new file name using both the input and mockup base names\n",
    "        new_file_name = f\"{input_base_name}_{mockup_base_name}.png\"\n",
    "\n",
    "        # Construct the full path for the output file\n",
    "        output_path = os.path.join(output_folder, new_file_name)\n",
    "\n",
    "        # Save the final image\n",
    "        load_mockup.save(output_path)\n",
    "\n",
    "print(\"Processing complete.\")\n"
   ]
  },
  {
   "cell_type": "markdown",
   "metadata": {},
   "source": [
    "- navigate to the output file\n",
    "- the folder should be populated with all of the mockups with the image on it"
   ]
  },
  {
   "cell_type": "markdown",
   "metadata": {},
   "source": [
    "## Organize "
   ]
  },
  {
   "cell_type": "markdown",
   "metadata": {},
   "source": [
    "- just run\n",
    "- input, output, and new 'prelisting' folder should remain untouched ... prelisting folder may change under depending on product"
   ]
  },
  {
   "cell_type": "code",
   "execution_count": null,
   "metadata": {},
   "outputs": [],
   "source": [
    "import os\n",
    "import shutil\n",
    "from glob import glob\n",
    "from collections import defaultdict\n",
    "\n",
    "# Define the destination folder\n",
    "prelisting_folder = r'C:\\Users\\Matt\\Pictures\\MidJourney\\Digital Products\\Brushed by the Breeze\\Images\\Prelisting'\n",
    "\n",
    "# Ensure the new output folder exists\n",
    "os.makedirs(prelisting_folder, exist_ok=True)\n",
    "\n",
    "# Function to extract starter word from filename\n",
    "def extract_starter_word(filename):\n",
    "    # Assuming the starter word is the part before the first underscore\n",
    "    return filename.split('_')[0]\n",
    "\n",
    "# Function to move files based on their starter words\n",
    "def move_files_based_on_starter(source_folder, target_folder):\n",
    "    files_grouped_by_starter = defaultdict(list)\n",
    "    # Group files by their starter word\n",
    "    for file_path in glob(os.path.join(source_folder, '*.png')):\n",
    "        starter_word = extract_starter_word(os.path.basename(file_path))\n",
    "        files_grouped_by_starter[starter_word].append(file_path)\n",
    "\n",
    "    # Move files to their respective starter word folders\n",
    "    for starter, files in files_grouped_by_starter.items():\n",
    "        starter_subfolder = os.path.join(target_folder, starter)\n",
    "        os.makedirs(starter_subfolder, exist_ok=True)\n",
    "        for file_path in files:\n",
    "            shutil.move(file_path, starter_subfolder)\n",
    "\n",
    "# Move every image from the input_image_folder to their respective new output folders based on unique starter words\n",
    "move_files_based_on_starter(input_image_folder, prelisting_folder)\n",
    "\n",
    "# Move images from the output_folder, including handling unique starter words\n",
    "move_files_based_on_starter(output_folder, prelisting_folder)\n",
    "\n",
    "print(\"Files have been moved to their respective new output folders based on unique starter words. Check to ensure there are 9 total images.\")\n"
   ]
  },
  {
   "cell_type": "markdown",
   "metadata": {},
   "source": [
    "- input folder should be clear\n",
    "- output folder should be clear\n",
    "- prelisting folder should be populated with each unique item in their own folder ... now we can upload to sell"
   ]
  },
  {
   "cell_type": "markdown",
   "metadata": {},
   "source": [
    "## Next Step\n",
    "If all runs swiftly I simply just save the pictures to the input folder and run both cells :)\n",
    "\n",
    "Then I can either manually move from prelisting --> listing or code it"
   ]
  },
  {
   "cell_type": "markdown",
   "metadata": {},
   "source": [
    "------------"
   ]
  }
 ],
 "metadata": {
  "kernelspec": {
   "display_name": "Python 3",
   "language": "python",
   "name": "python3"
  },
  "language_info": {
   "codemirror_mode": {
    "name": "ipython",
    "version": 3
   },
   "file_extension": ".py",
   "mimetype": "text/x-python",
   "name": "python",
   "nbconvert_exporter": "python",
   "pygments_lexer": "ipython3",
   "version": "3.9.6"
  }
 },
 "nbformat": 4,
 "nbformat_minor": 2
}
